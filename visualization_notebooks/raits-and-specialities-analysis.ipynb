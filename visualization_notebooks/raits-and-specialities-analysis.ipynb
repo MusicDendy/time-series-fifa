{
 "cells": [
  {
   "cell_type": "markdown",
   "metadata": {},
   "source": [
    "# Title\n",
    "\n",
    "Some description"
   ]
  },
  {
   "cell_type": "markdown",
   "metadata": {},
   "source": [
    "## Imports"
   ]
  },
  {
   "cell_type": "code",
   "execution_count": 7,
   "metadata": {
    "collapsed": true
   },
   "outputs": [],
   "source": [
    "%matplotlib inline\n",
    "import pandas as pd\n",
    "pd.options.display.max_columns = 999\n",
    "\n",
    "import seaborn as sns\n",
    "import plotly as py\n",
    "import plotly.figure_factory as ff\n",
    "\n",
    "import ast"
   ]
  },
  {
   "cell_type": "markdown",
   "metadata": {},
   "source": [
    "## Preprocessing prices dataset"
   ]
  },
  {
   "cell_type": "code",
   "execution_count": 13,
   "metadata": {},
   "outputs": [
    {
     "name": "stdout",
     "output_type": "stream",
     "text": [
      "Wall time: 3min 6s\n"
     ]
    }
   ],
   "source": [
    "%%time\n",
    "prices = pd.read_csv('../data/player_price.csv', converters={\n",
    "    'timestamp': lambda x: pd.to_datetime(x, unit='ms'),\n",
    "})\n",
    "prices.player_name = prices.player_name.astype('category')\n",
    "prices.player_id = prices.player_id.astype('category')\n",
    "prices.index = prices.player_id"
   ]
  },
  {
   "cell_type": "markdown",
   "metadata": {},
   "source": [
    "## Preprocessing stats dataset"
   ]
  },
  {
   "cell_type": "code",
   "execution_count": 14,
   "metadata": {},
   "outputs": [
    {
     "name": "stdout",
     "output_type": "stream",
     "text": [
      "Wall time: 8.21 s\n"
     ]
    }
   ],
   "source": [
    "%%time\n",
    "stats = pd.read_csv('../data/player_stats.csv')\n",
    "\n",
    "category_columns = ['position', 'club', 'def_workrate', 'att_workrate', 'foot', 'league', 'nation', 'name', 'origin', 'revision', 'colour', 'rareness']\n",
    "\n",
    "for category_col in category_columns:\n",
    "    stats[category_col] = stats[category_col].astype('category')\n",
    "    \n",
    "stats['added_on'] = pd.to_datetime(stats['added_on'])\n",
    "\n",
    "def preprocess_list_string(x):\n",
    "    x = ast.literal_eval(x)\n",
    "    if 'None' in x:\n",
    "        x.remove('None')\n",
    "    return pd.Series(x)\n",
    "    \n",
    "list_columns = ['raits', 'specialities']\n",
    "for list_col in list_columns:\n",
    "    stats = stats.join(\n",
    "        pd.get_dummies(stats[list_col].apply(preprocess_list_string).stack(), prefix=list_col).sum(level=0))\n",
    "    stats = stats.drop(list_col, axis=1)\n",
    "    \n",
    "raits = [col for col in stats.columns if col.startswith('raits_')]\n",
    "specialities = [col for col in stats.columns if col.startswith('specialities_')]\n",
    "\n",
    "data[raits] = data[raits].fillna(0)\n",
    "data[specialities] = data[specialities].fillna(0)\n",
    "\n",
    "# because of dublicaties\n",
    "stats = stats.drop('front_scores', axis=1)\n",
    "stats.index = stats.player_id"
   ]
  },
  {
   "cell_type": "markdown",
   "metadata": {},
   "source": [
    "## Merging to one dataset"
   ]
  },
  {
   "cell_type": "code",
   "execution_count": 48,
   "metadata": {},
   "outputs": [
    {
     "name": "stdout",
     "output_type": "stream",
     "text": [
      "Wall time: 8.65 s\n"
     ]
    }
   ],
   "source": [
    "%%time\n",
    "pivot_prices = prices.pivot_table(index=prices.index, values='xbox_price', aggfunc=('min', 'max', 'mean'))\n",
    "data = stats.merge(pivot_prices, how='right', right_index=True, left_index=True)"
   ]
  },
  {
   "cell_type": "markdown",
   "metadata": {},
   "source": [
    "## How depends players price on player raits?"
   ]
  },
  {
   "cell_type": "code",
   "execution_count": 76,
   "metadata": {},
   "outputs": [
    {
     "data": {
      "text/plain": [
       "<matplotlib.axes._subplots.AxesSubplot at 0x1f331350ba8>"
      ]
     },
     "execution_count": 76,
     "metadata": {},
     "output_type": "execute_result"
    },
    {
     "data": {
      "image/png": "[encoded data removed]",
      "text/plain": [
       "<matplotlib.figure.Figure at 0x1f331357cc0>"
      ]
     },
     "metadata": {},
     "output_type": "display_data"
    }
   ],
   "source": [
    "data['count_raits'] = data[raits].sum(axis=1).fillna(0)\n",
    "plot_data = data[data['revision']=='Normal']\n",
    "sns.boxplot(x='count_raits', y='mean', data=plot_data[plot_data['mean'] < 200000])"
   ]
  },
  {
   "cell_type": "code",
   "execution_count": 79,
   "metadata": {},
   "outputs": [
    {
     "data": {
      "text/plain": [
       "<matplotlib.axes._subplots.AxesSubplot at 0x1f32e6a2e80>"
      ]
     },
     "execution_count": 79,
     "metadata": {},
     "output_type": "execute_result"
    },
    {
     "data": {
      "image/png": "[encoded data removed]",
      "text/plain": [
       "<matplotlib.figure.Figure at 0x1f330b116a0>"
      ]
     },
     "metadata": {},
     "output_type": "display_data"
    }
   ],
   "source": [
    "sns.boxplot(x='count_raits', y='mean', data=plot_data[plot_data['mean'] < 20000])"
   ]
  },
  {
   "cell_type": "markdown",
   "metadata": {},
   "source": [
    "According to this plots, we can say that price not depends on count of player's raits"
   ]
  },
  {
   "cell_type": "markdown",
   "metadata": {},
   "source": [
    "## How depends players price on player specialities?"
   ]
  },
  {
   "cell_type": "code",
   "execution_count": 78,
   "metadata": {},
   "outputs": [
    {
     "data": {
      "text/plain": [
       "<matplotlib.axes._subplots.AxesSubplot at 0x1f3323b3cc0>"
      ]
     },
     "execution_count": 78,
     "metadata": {},
     "output_type": "execute_result"
    },
    {
     "data": {
      "image/png": "[encoded data removed]",
      "text/plain": [
       "<matplotlib.figure.Figure at 0x1f331f2f390>"
      ]
     },
     "metadata": {},
     "output_type": "display_data"
    }
   ],
   "source": [
    "data['count_specialities'] = data[specialities].sum(axis=1).fillna(0)\n",
    "plot_data = data[data['revision']=='Normal']\n",
    "sns.boxplot(x='count_specialities', y='mean', data=plot_data)"
   ]
  },
  {
   "cell_type": "markdown",
   "metadata": {
    "collapsed": true
   },
   "source": [
    "As we can see mean price depends on count of player's specialities (probably, exponentially)"
   ]
  },
  {
   "cell_type": "markdown",
   "metadata": {},
   "source": [
    "## The most expensive players specialities"
   ]
  },
  {
   "cell_type": "markdown",
   "metadata": {},
   "source": [
    "to be continued"
   ]
  }
 ],
 "metadata": {
  "kernelspec": {
   "display_name": "Python 3",
   "language": "python",
   "name": "python3"
  },
  "language_info": {
   "codemirror_mode": {
    "name": "ipython",
    "version": 3
   },
   "file_extension": ".py",
   "mimetype": "text/x-python",
   "name": "python",
   "nbconvert_exporter": "python",
   "pygments_lexer": "ipython3",
   "version": "3.6.1"
  }
 },
 "nbformat": 4,
 "nbformat_minor": 1
}
