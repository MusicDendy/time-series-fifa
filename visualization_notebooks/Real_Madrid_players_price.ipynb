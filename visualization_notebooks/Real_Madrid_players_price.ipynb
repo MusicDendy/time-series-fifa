{
 "cells": [
  {
   "cell_type": "code",
   "execution_count": 1,
   "metadata": {
    "collapsed": true
   },
   "outputs": [],
   "source": [
    "import pandas as pd\n",
    "pd.options.display.max_columns = 999"
   ]
  },
  {
   "cell_type": "code",
   "execution_count": 2,
   "metadata": {
    "collapsed": true
   },
   "outputs": [],
   "source": [
    "# data loading\n",
    "df_price = pd.read_csv(\"../data/player_price.csv\")\n",
    "df_stats = pd.read_csv(\"../data/player_stats.csv\")"
   ]
  },
  {
   "cell_type": "code",
   "execution_count": 3,
   "metadata": {
    "collapsed": true
   },
   "outputs": [],
   "source": [
    "# filter only Real Madrid players\n",
    "df_stats_real = df_stats[(df_stats[\"club\"]==\"Real Madrid\") & \n",
    "                         (df_stats[\"revision\"] == \"Normal\") &\n",
    "                         (df_stats[\"origin\"] == \"N\\A\")]\n",
    "\n",
    "# merge players stats with players prices\n",
    "rm = df_stats_real[[\"player_id\"]].merge(df_price, on=['player_id'], how='inner')\n",
    "\n",
    "# convert timestamp to datetime\n",
    "rm['Date'] = pd.to_datetime(rm['timestamp'], unit='ms')\n",
    "rm.drop([\"timestamp\"], axis=1, inplace=True)\n",
    "\n",
    "# create new columns extracting month and year\n",
    "rm['DateMonth'] = rm['Date'].dt.month\n",
    "rm['DateYear'] = rm['Date'].dt.year\n",
    "rm['year_month'] = rm['DateYear'].astype(str) + \"_\" +\\\n",
    "                            rm['DateMonth'].astype(str).apply(lambda x: \"0\" + x if len(x) == 1 else x)"
   ]
  },
  {
   "cell_type": "code",
   "execution_count": 4,
   "metadata": {
    "collapsed": true
   },
   "outputs": [],
   "source": [
    "# get average of each player\n",
    "rm = rm.groupby(['player_name', 'year_month'])[\"xbox_price\"].mean().reset_index()\n",
    "\n",
    "# filter the very expensive players\n",
    "rm_exp_players = rm.loc[rm[\"xbox_price\"] > 100000, \"player_name\"].unique()\n",
    "\n",
    "# get year_month unique values for our plot\n",
    "dates = sorted(rm.year_month.unique())"
   ]
  },
  {
   "cell_type": "code",
   "execution_count": 5,
   "metadata": {},
   "outputs": [
    {
     "ename": "ImportError",
     "evalue": "No module named 'JSAnimation'",
     "output_type": "error",
     "traceback": [
      "\u001b[1;31m---------------------------------------------------------------------------\u001b[0m",
      "\u001b[1;31mImportError\u001b[0m                               Traceback (most recent call last)",
      "\u001b[1;32m<ipython-input-5-1ef136656bed>\u001b[0m in \u001b[0;36m<module>\u001b[1;34m()\u001b[0m\n\u001b[0;32m      1\u001b[0m \u001b[1;32mfrom\u001b[0m \u001b[0mmatplotlib\u001b[0m \u001b[1;32mimport\u001b[0m \u001b[0mpyplot\u001b[0m \u001b[1;32mas\u001b[0m \u001b[0mplt\u001b[0m\u001b[1;33m\u001b[0m\u001b[0m\n\u001b[0;32m      2\u001b[0m \u001b[1;32mimport\u001b[0m \u001b[0mmatplotlib\u001b[0m\u001b[1;33m.\u001b[0m\u001b[0manimation\u001b[0m \u001b[1;32mas\u001b[0m \u001b[0manimation\u001b[0m\u001b[1;33m\u001b[0m\u001b[0m\n\u001b[1;32m----> 3\u001b[1;33m \u001b[1;32mfrom\u001b[0m \u001b[0mJSAnimation\u001b[0m \u001b[1;32mimport\u001b[0m \u001b[0mIPython_display\u001b[0m\u001b[1;33m\u001b[0m\u001b[0m\n\u001b[0m\u001b[0;32m      4\u001b[0m \u001b[1;33m\u001b[0m\u001b[0m\n\u001b[0;32m      5\u001b[0m \u001b[1;32mimport\u001b[0m \u001b[0mnumpy\u001b[0m \u001b[1;32mas\u001b[0m \u001b[0mnp\u001b[0m\u001b[1;33m\u001b[0m\u001b[0m\n",
      "\u001b[1;31mImportError\u001b[0m: No module named 'JSAnimation'"
     ]
    }
   ],
   "source": [
    "from matplotlib import pyplot as plt\n",
    "import matplotlib.animation as animation\n",
    "from JSAnimation import IPython_display\n",
    "\n",
    "import numpy as np\n",
    "import seaborn as sns\n",
    "\n",
    "import warnings\n",
    "warnings.filterwarnings(\"ignore\")\n",
    "\n",
    "%matplotlib inline"
   ]
  },
  {
   "cell_type": "code",
   "execution_count": null,
   "metadata": {},
   "outputs": [],
   "source": [
    "fig, ax = plt.subplots()\n",
    "\n",
    "def animate(i): \n",
    "    data = rm.loc[(rm[\"year_month\"] == i) & (~rm[\"player_name\"].isin(rm_exp_players)), \"xbox_price\"].values\n",
    "    ax.clear()\n",
    "    sns.distplot(data, 10, ax=ax, color=\"r\", rug=True, )\n",
    "    xmin, xmax = ax.get_ylim()\n",
    "    ax.vlines(data.mean(), ax.get_ylim()[0], 1)\n",
    "    ax.set_ylim(0, 0.0002)\n",
    "    ax.set_xlim(0, 100000)\n",
    "    ax.set_title(i)\n",
    "\n",
    "    \n",
    "animation.FuncAnimation(fig, animate, frames=dates, interval=1000) "
   ]
  }
 ],
 "metadata": {
  "kernelspec": {
   "display_name": "Python 3",
   "language": "python",
   "name": "python3"
  }
 },
 "nbformat": 4,
 "nbformat_minor": 2
}
