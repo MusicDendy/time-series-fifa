{
 "cells": [
  {
   "cell_type": "code",
   "execution_count": null,
   "metadata": {},
   "outputs": [
    {
     "name": "stdout",
     "output_type": "stream",
     "text": [
      "The autoreload extension is already loaded. To reload it, use:\n",
      "  %reload_ext autoreload\n"
     ]
    }
   ],
   "source": [
    "import pandas as pd\n",
    "import numpy as np\n",
    "import matplotlib.pylab as plt\n",
    "import math\n",
    "import tqdm\n",
    "from sklearn.svm import SVR\n",
    "from sklearn.preprocessing import MinMaxScaler, StandardScaler\n",
    "from sklearn.metrics import mean_squared_error\n",
    "from datetime import *\n",
    "from sklearn.linear_model import LinearRegression\n",
    "from sklearn.linear_model import ElasticNet\n",
    "\n",
    "from sklearn.ensemble import RandomForestRegressor\n",
    "from scipy.stats import skew, kurtosis, hmean, gmean\n",
    "import itertools\n",
    "\n",
    "import autoreload\n",
    "%load_ext autoreload\n",
    "%autoreload 2\n",
    "import warnings\n",
    "warnings.filterwarnings('ignore')"
   ]
  },
  {
   "cell_type": "code",
   "execution_count": 488,
   "metadata": {},
   "outputs": [],
   "source": [
    "import data_provider"
   ]
  },
  {
   "cell_type": "code",
   "execution_count": 489,
   "metadata": {
    "collapsed": true
   },
   "outputs": [],
   "source": [
    "df = data_provider.df"
   ]
  },
  {
   "cell_type": "code",
   "execution_count": null,
   "metadata": {},
   "outputs": [],
   "source": [
    "pred_size = data_provider.pred_size\n",
    "hist_window = 43\n",
    "# scaler = MinMaxScaler() #15562vs 15k w/o\n",
    "# scaler_y = MinMaxScaler(feature_range=(0, 1))"
   ]
  },
  {
   "cell_type": "code",
   "execution_count": 564,
   "metadata": {
    "collapsed": true
   },
   "outputs": [],
   "source": [
    "def split_train_val(df, hist_window, pred_size):\n",
    "    dataForModel = df[(df[\"Date\"] > df[\"Date\"].max() - timedelta(days=pred_size*2 + hist_window))]\n",
    "    dfModel = pd.DataFrame()\n",
    "    dfVal = pd.DataFrame()\n",
    "    for pid in tqdm.tqdm(sorted(dataForModel.player_id.unique())):\n",
    "        s=data_provider.series_to_supervised(dataForModel[dataForModel.player_id == pid]['price'].tolist(), n_in=hist_window, n_out=pred_size, dropnan=True)\n",
    "        dates =dataForModel[dataForModel.player_id == pid]['Date'].shift(pred_size).iloc[-(pred_size+1):]\n",
    "#         print(s.shape, dates.shape)\n",
    "        dates.index=s.index\n",
    "        s = pd.concat([dates,s],axis=1)\n",
    "        stat = data_provider.df_stats[data_provider.df_stats['player_id']==pid]\n",
    "        stat_model= pd.DataFrame()\n",
    "        for i in range(s.shape[0]-1):\n",
    "            stat_model = pd.concat([stat_model, stat])\n",
    "        stat_model.index = s.iloc[:-1, :].index\n",
    "        dfModel = pd.concat([dfModel, stat_model.join(s.iloc[:-1, :])])\n",
    "        stat.index = s.iloc[-1:, :].index\n",
    "        dfVal = pd.concat([dfVal,  stat.join(s.iloc[-1:, :])])\n",
    "    print(\"Data is ready!!!\")\n",
    "    print(dfModel.shape)\n",
    "    print(dfVal.shape)\n",
    "    return dfModel, dfVal\n",
    "\n",
    "def scale_split_train_test_val(dfModel , dfVal, hist_window, pred_size):\n",
    "    stat_size = dfModel.shape[1]-hist_window-pred_size\n",
    "    print(stat_size)\n",
    "    X = dfModel.iloc[:, :stat_size+hist_window]\n",
    "    X_val = dfVal.iloc[:, :stat_size+hist_window]\n",
    "\n",
    "    y = dfModel.iloc[:, -pred_size:]\n",
    "    \n",
    "    x_cols=X.columns\n",
    "    y_cols=y.columns\n",
    "    \n",
    "#     X = pd.DataFrame(scaler.fit_transform(X), columns=x_cols)\n",
    "#     y = pd.DataFrame(scaler_y.fit_transform(y), columns=y_cols)\n",
    "\n",
    "    X_val = dfVal.iloc[:, :stat_size+hist_window]\n",
    "#     X_val = pd.DataFrame(scaler.transform(X_val), columns=x_cols)\n",
    "\n",
    "    y_val = dfVal.iloc[:, -pred_size:]\n",
    "#     y_val = pd.DataFrame(scaler_y.transform(y_val), columns=y_cols)\n",
    "    X_test = pd.concat([dfVal.iloc[:, :stat_size], dfVal.iloc[:, -hist_window:]], axis=1)\n",
    "    X_test.columns=x_cols\n",
    "    \n",
    "#     X_test = pd.DataFrame(scaler.transform(X_test), columns=x_cols)\n",
    "    return X, y, X_val, y_val, X_test\n",
    "    \n",
    "def unscale_y(y):\n",
    "    return scaler_y.inverse_transform(y)\n",
    "\n",
    "\n",
    "def root_mean_squared_error(y_true, y_pred):\n",
    "        return math.sqrt(mean_squared_error(y_pred, y_true))\n",
    "    \n",
    "def evaluate(y_true, y_pred):\n",
    "    return root_mean_squared_error(np.exp(y_true), np.exp(y_pred))"
   ]
  },
  {
   "cell_type": "code",
   "execution_count": 565,
   "metadata": {},
   "outputs": [
    {
     "name": "stderr",
     "output_type": "stream",
     "text": [
      "100%|██████████| 1253/1253 [00:26<00:00, 47.84it/s]"
     ]
    },
    {
     "name": "stdout",
     "output_type": "stream",
     "text": [
      "Data is ready!!!\n",
      "(8771, 55)\n",
      "(1253, 55)\n"
     ]
    },
    {
     "name": "stderr",
     "output_type": "stream",
     "text": [
      "\n"
     ]
    }
   ],
   "source": [
    "df_train, df_val = split_train_val(df, hist_window, pred_size)"
   ]
  },
  {
   "cell_type": "code",
   "execution_count": 375,
   "metadata": {},
   "outputs": [
    {
     "data": {
      "text/plain": [
       "Index(['colour', 'rareness', 'player_id', 'revision', 'Date', 'var1(t-43)',\n",
       "       'var1(t-42)', 'var1(t-41)', 'var1(t-40)', 'var1(t-39)', 'var1(t-38)',\n",
       "       'var1(t-37)', 'var1(t-36)', 'var1(t-35)', 'var1(t-34)', 'var1(t-33)',\n",
       "       'var1(t-32)', 'var1(t-31)', 'var1(t-30)', 'var1(t-29)', 'var1(t-28)',\n",
       "       'var1(t-27)', 'var1(t-26)', 'var1(t-25)', 'var1(t-24)', 'var1(t-23)',\n",
       "       'var1(t-22)', 'var1(t-21)', 'var1(t-20)', 'var1(t-19)', 'var1(t-18)',\n",
       "       'var1(t-17)', 'var1(t-16)', 'var1(t-15)', 'var1(t-14)', 'var1(t-13)',\n",
       "       'var1(t-12)', 'var1(t-11)', 'var1(t-10)', 'var1(t-9)', 'var1(t-8)',\n",
       "       'var1(t-7)', 'var1(t-6)', 'var1(t-5)', 'var1(t-4)', 'var1(t-3)',\n",
       "       'var1(t-2)', 'var1(t-1)', 'var1(t)', 'var1(t+1)', 'var1(t+2)',\n",
       "       'var1(t+3)', 'var1(t+4)', 'var1(t+5)', 'var1(t+6)'],\n",
       "      dtype='object')"
      ]
     },
     "execution_count": 375,
     "metadata": {},
     "output_type": "execute_result"
    }
   ],
   "source": [
    "df_train.columns"
   ]
  },
  {
   "cell_type": "code",
   "execution_count": 566,
   "metadata": {},
   "outputs": [],
   "source": [
    "min_date = df_train.Date.min()\n",
    "df_train = df_train[df_train.Date == min_date]"
   ]
  },
  {
   "cell_type": "code",
   "execution_count": 557,
   "metadata": {},
   "outputs": [],
   "source": [
    "### test on lr -> output/stat_feature_result.json -> worse with 'weekday', 'is_cheap'\n",
    "# col = ['weekday', 'is_cheap'] + df_train.columns.values.tolist() \n",
    "# df_train['weekday'] = df_train['Date'].apply(lambda x: x.weekday())\n",
    "# df_train['is_cheap'] = np.exp(df_train['var1(t)'])<50000\n",
    "# df_train['is_cheap'] = df_train['is_cheap'].astype(np.int8)\n",
    "# df_train = df_train[col]\n",
    "\n",
    "# df_val['weekday'] = df_val['Date'].apply(lambda x: x.weekday())\n",
    "# df_val['is_cheap'] = np.exp(df_val['var1(t)'])<50000\n",
    "# df_val['is_cheap'] = df_val['is_cheap'].astype(np.int8)\n",
    "# df_val = df_val[col]"
   ]
  },
  {
   "cell_type": "code",
   "execution_count": 567,
   "metadata": {
    "scrolled": true
   },
   "outputs": [],
   "source": [
    "test_col = ['var1(t)', 'var1(t+1)','var1(t+2)', 'var1(t+3)', 'var1(t+4)', 'var1(t+5)', 'var1(t+6)']\n",
    "\n",
    "train_col = []\n",
    "for col in df_train.columns:\n",
    "        if 'var1' in col:\n",
    "            train_col.append(col)\n",
    "\n",
    "train_col = list(set(train_col).difference(test_col))\n",
    "train_col = sorted(train_col, key=lambda x : int(x.split('t')[1].split(')')[0]))\n",
    "\n",
    "df_train.drop(['Date', 'player_id'], inplace=True, axis=1)\n",
    "df_val.drop(['Date', 'player_id'], inplace=True, axis=1)"
   ]
  },
  {
   "cell_type": "code",
   "execution_count": 568,
   "metadata": {},
   "outputs": [
    {
     "name": "stdout",
     "output_type": "stream",
     "text": [
      "3\n"
     ]
    }
   ],
   "source": [
    "X, y, X_val, y_val, X_test = scale_split_train_test_val(df_train, df_val, hist_window, pred_size)"
   ]
  },
  {
   "cell_type": "code",
   "execution_count": 580,
   "metadata": {},
   "outputs": [],
   "source": [
    "add_cols = []\n",
    "for c in X.columns:\n",
    "    if not 'var1' in c:\n",
    "        add_cols.append(c)\n",
    "\n",
    "def calc_error(val_res):\n",
    "    best_days = [i for i in np.argmin(np.array(val_res), axis=0)]\n",
    "    return np.mean([np.array(val_res)[j,i] for i, j in enumerate(best_days)])\n",
    "\n",
    "def add_func_feature(train_X, val_X, test_X, func, look_col):\n",
    "    #15,5k\n",
    "    train_X['var1_'+func.__name__] = train_X[look_col].apply(lambda x : func(x), axis=1)\n",
    "    val_X['var1_'+func.__name__] = val_X[look_col].apply(lambda x : func(x), axis=1)\n",
    "    test_X['var1_'+func.__name__] = test_X[look_col].apply(lambda x : func(x), axis=1)\n",
    "    return train_X, val_X, test_X\n",
    "\n",
    "def add_func_norm_feature(train_X, val_X, test_X, func, look_col):\n",
    "    #15k\n",
    "    train_X['var1_'+func.__name__] = train_X[look_col].apply(lambda x : func(x), axis=1)\n",
    "    max_var1 = max(train_X['var1_'+func.__name__])\n",
    "    train_X['var1_'+func.__name__] = train_X['var1_'+func.__name__]/max_var1\n",
    "    \n",
    "    val_X['var1_'+func.__name__] = val_X[look_col].apply(lambda x : func(x), axis=1)/max_var1\n",
    "    test_X['var1_'+func.__name__] = test_X[look_col].apply(lambda x : func(x), axis=1)/max_var1\n",
    "    return train_X, val_X, test_X\n",
    "\n",
    "def add_pct_change_single_df(df, look_col, look_num, pct_col):\n",
    "    temp = df[look_col[-look_num:]].pct_change()\n",
    "    temp.columns =  pct_col\n",
    "    temp = temp.fillna(0)\n",
    "    temp.index=df.index\n",
    "    df=pd.concat([df, temp], axis=1)\n",
    "    return df\n",
    "\n",
    "def add_pct_change(train_X, val_X, test_X, look_col, look_num=pred_size):\n",
    "    pct_col =['var1_pct(t-{})'.format(i) for i in range(look_num, 0, -1)]\n",
    "\n",
    "    train_X = add_pct_change_single_df(train_X, look_col, look_num, pct_col)\n",
    "    val_X = add_pct_change_single_df(val_X, look_col, look_num, pct_col)\n",
    "    test_X = add_pct_change_single_df(test_X, look_col, look_num, pct_col)\n",
    "    return train_X, val_X, test_X"
   ]
  },
  {
   "cell_type": "code",
   "execution_count": 570,
   "metadata": {},
   "outputs": [
    {
     "data": {
      "text/html": [
       "<div>\n",
       "<style>\n",
       "    .dataframe thead tr:only-child th {\n",
       "        text-align: right;\n",
       "    }\n",
       "\n",
       "    .dataframe thead th {\n",
       "        text-align: left;\n",
       "    }\n",
       "\n",
       "    .dataframe tbody tr th {\n",
       "        vertical-align: top;\n",
       "    }\n",
       "</style>\n",
       "<table border=\"1\" class=\"dataframe\">\n",
       "  <thead>\n",
       "    <tr style=\"text-align: right;\">\n",
       "      <th></th>\n",
       "      <th>colour</th>\n",
       "      <th>rareness</th>\n",
       "      <th>revision</th>\n",
       "      <th>var1(t-43)</th>\n",
       "      <th>var1(t-42)</th>\n",
       "      <th>var1(t-41)</th>\n",
       "      <th>var1(t-40)</th>\n",
       "      <th>var1(t-39)</th>\n",
       "      <th>var1(t-38)</th>\n",
       "      <th>var1(t-37)</th>\n",
       "      <th>...</th>\n",
       "      <th>var1(t-10)</th>\n",
       "      <th>var1(t-9)</th>\n",
       "      <th>var1(t-8)</th>\n",
       "      <th>var1(t-7)</th>\n",
       "      <th>var1(t-6)</th>\n",
       "      <th>var1(t-5)</th>\n",
       "      <th>var1(t-4)</th>\n",
       "      <th>var1(t-3)</th>\n",
       "      <th>var1(t-2)</th>\n",
       "      <th>var1(t-1)</th>\n",
       "    </tr>\n",
       "  </thead>\n",
       "  <tbody>\n",
       "    <tr>\n",
       "      <th>50</th>\n",
       "      <td>0</td>\n",
       "      <td>0</td>\n",
       "      <td>0</td>\n",
       "      <td>14.962763</td>\n",
       "      <td>14.962954</td>\n",
       "      <td>14.954980</td>\n",
       "      <td>14.975891</td>\n",
       "      <td>14.922806</td>\n",
       "      <td>14.930123</td>\n",
       "      <td>14.925979</td>\n",
       "      <td>...</td>\n",
       "      <td>15.012953</td>\n",
       "      <td>15.012056</td>\n",
       "      <td>15.000089</td>\n",
       "      <td>14.982642</td>\n",
       "      <td>15.013320</td>\n",
       "      <td>14.987340</td>\n",
       "      <td>14.960579</td>\n",
       "      <td>14.958263</td>\n",
       "      <td>14.993840</td>\n",
       "      <td>14.958823</td>\n",
       "    </tr>\n",
       "    <tr>\n",
       "      <th>50</th>\n",
       "      <td>0</td>\n",
       "      <td>0</td>\n",
       "      <td>1</td>\n",
       "      <td>13.562132</td>\n",
       "      <td>13.562392</td>\n",
       "      <td>13.573333</td>\n",
       "      <td>13.556119</td>\n",
       "      <td>13.547468</td>\n",
       "      <td>13.529041</td>\n",
       "      <td>13.492096</td>\n",
       "      <td>...</td>\n",
       "      <td>13.579617</td>\n",
       "      <td>13.576047</td>\n",
       "      <td>13.566062</td>\n",
       "      <td>13.572917</td>\n",
       "      <td>13.556965</td>\n",
       "      <td>13.543082</td>\n",
       "      <td>13.538018</td>\n",
       "      <td>13.525057</td>\n",
       "      <td>13.516720</td>\n",
       "      <td>13.517797</td>\n",
       "    </tr>\n",
       "    <tr>\n",
       "      <th>50</th>\n",
       "      <td>0</td>\n",
       "      <td>0</td>\n",
       "      <td>1</td>\n",
       "      <td>12.854575</td>\n",
       "      <td>12.870447</td>\n",
       "      <td>12.892741</td>\n",
       "      <td>12.892233</td>\n",
       "      <td>12.863090</td>\n",
       "      <td>12.827581</td>\n",
       "      <td>12.829240</td>\n",
       "      <td>...</td>\n",
       "      <td>12.927807</td>\n",
       "      <td>12.906334</td>\n",
       "      <td>12.916092</td>\n",
       "      <td>12.909462</td>\n",
       "      <td>12.894067</td>\n",
       "      <td>12.875680</td>\n",
       "      <td>12.862898</td>\n",
       "      <td>12.847195</td>\n",
       "      <td>12.844449</td>\n",
       "      <td>12.843990</td>\n",
       "    </tr>\n",
       "    <tr>\n",
       "      <th>50</th>\n",
       "      <td>0</td>\n",
       "      <td>0</td>\n",
       "      <td>0</td>\n",
       "      <td>13.323624</td>\n",
       "      <td>13.263196</td>\n",
       "      <td>13.249560</td>\n",
       "      <td>13.259117</td>\n",
       "      <td>13.252407</td>\n",
       "      <td>13.252017</td>\n",
       "      <td>13.302519</td>\n",
       "      <td>...</td>\n",
       "      <td>13.218886</td>\n",
       "      <td>13.229354</td>\n",
       "      <td>13.226208</td>\n",
       "      <td>13.228437</td>\n",
       "      <td>13.257499</td>\n",
       "      <td>13.193953</td>\n",
       "      <td>13.149173</td>\n",
       "      <td>13.177401</td>\n",
       "      <td>13.217206</td>\n",
       "      <td>13.220722</td>\n",
       "    </tr>\n",
       "    <tr>\n",
       "      <th>50</th>\n",
       "      <td>0</td>\n",
       "      <td>0</td>\n",
       "      <td>0</td>\n",
       "      <td>12.837897</td>\n",
       "      <td>12.827659</td>\n",
       "      <td>12.839326</td>\n",
       "      <td>12.857408</td>\n",
       "      <td>12.888437</td>\n",
       "      <td>12.859975</td>\n",
       "      <td>12.852136</td>\n",
       "      <td>...</td>\n",
       "      <td>12.867902</td>\n",
       "      <td>12.865782</td>\n",
       "      <td>12.834492</td>\n",
       "      <td>12.856785</td>\n",
       "      <td>12.871237</td>\n",
       "      <td>12.802158</td>\n",
       "      <td>12.755947</td>\n",
       "      <td>12.763935</td>\n",
       "      <td>12.778585</td>\n",
       "      <td>12.769228</td>\n",
       "    </tr>\n",
       "  </tbody>\n",
       "</table>\n",
       "<p>5 rows × 46 columns</p>\n",
       "</div>"
      ],
      "text/plain": [
       "    colour  rareness  revision  var1(t-43)  var1(t-42)  var1(t-41)  \\\n",
       "50       0         0         0   14.962763   14.962954   14.954980   \n",
       "50       0         0         1   13.562132   13.562392   13.573333   \n",
       "50       0         0         1   12.854575   12.870447   12.892741   \n",
       "50       0         0         0   13.323624   13.263196   13.249560   \n",
       "50       0         0         0   12.837897   12.827659   12.839326   \n",
       "\n",
       "    var1(t-40)  var1(t-39)  var1(t-38)  var1(t-37)    ...      var1(t-10)  \\\n",
       "50   14.975891   14.922806   14.930123   14.925979    ...       15.012953   \n",
       "50   13.556119   13.547468   13.529041   13.492096    ...       13.579617   \n",
       "50   12.892233   12.863090   12.827581   12.829240    ...       12.927807   \n",
       "50   13.259117   13.252407   13.252017   13.302519    ...       13.218886   \n",
       "50   12.857408   12.888437   12.859975   12.852136    ...       12.867902   \n",
       "\n",
       "    var1(t-9)  var1(t-8)  var1(t-7)  var1(t-6)  var1(t-5)  var1(t-4)  \\\n",
       "50  15.012056  15.000089  14.982642  15.013320  14.987340  14.960579   \n",
       "50  13.576047  13.566062  13.572917  13.556965  13.543082  13.538018   \n",
       "50  12.906334  12.916092  12.909462  12.894067  12.875680  12.862898   \n",
       "50  13.229354  13.226208  13.228437  13.257499  13.193953  13.149173   \n",
       "50  12.865782  12.834492  12.856785  12.871237  12.802158  12.755947   \n",
       "\n",
       "    var1(t-3)  var1(t-2)  var1(t-1)  \n",
       "50  14.958263  14.993840  14.958823  \n",
       "50  13.525057  13.516720  13.517797  \n",
       "50  12.847195  12.844449  12.843990  \n",
       "50  13.177401  13.217206  13.220722  \n",
       "50  12.763935  12.778585  12.769228  \n",
       "\n",
       "[5 rows x 46 columns]"
      ]
     },
     "execution_count": 570,
     "metadata": {},
     "output_type": "execute_result"
    }
   ],
   "source": [
    "X_test.head()"
   ]
  },
  {
   "cell_type": "code",
   "execution_count": 581,
   "metadata": {
    "scrolled": false
   },
   "outputs": [
    {
     "name": "stderr",
     "output_type": "stream",
     "text": [
      "  3%|▎         | 1/36 [00:01<00:47,  1.36s/it]"
     ]
    },
    {
     "name": "stdout",
     "output_type": "stream",
     "text": [
      "['var1_pct(t-1)']\n"
     ]
    },
    {
     "name": "stderr",
     "output_type": "stream",
     "text": [
      "\r",
      "  6%|▌         | 2/36 [00:02<00:46,  1.36s/it]"
     ]
    },
    {
     "name": "stdout",
     "output_type": "stream",
     "text": [
      "['var1_pct(t-1)']\n"
     ]
    },
    {
     "name": "stderr",
     "output_type": "stream",
     "text": [
      "\r",
      "  8%|▊         | 3/36 [00:04<00:46,  1.41s/it]"
     ]
    },
    {
     "name": "stdout",
     "output_type": "stream",
     "text": [
      "['var1_pct(t-1)']\n"
     ]
    },
    {
     "name": "stderr",
     "output_type": "stream",
     "text": [
      "\r",
      " 11%|█         | 4/36 [00:05<00:48,  1.51s/it]"
     ]
    },
    {
     "name": "stdout",
     "output_type": "stream",
     "text": [
      "['var1_pct(t-1)']\n"
     ]
    },
    {
     "name": "stderr",
     "output_type": "stream",
     "text": [
      "\r",
      " 14%|█▍        | 5/36 [00:07<00:49,  1.61s/it]"
     ]
    },
    {
     "name": "stdout",
     "output_type": "stream",
     "text": [
      "['var1_pct(t-1)']\n"
     ]
    },
    {
     "name": "stderr",
     "output_type": "stream",
     "text": [
      "\r",
      " 17%|█▋        | 6/36 [00:09<00:50,  1.68s/it]"
     ]
    },
    {
     "name": "stdout",
     "output_type": "stream",
     "text": [
      "['var1_pct(t-1)']\n"
     ]
    },
    {
     "name": "stderr",
     "output_type": "stream",
     "text": [
      "\r",
      " 19%|█▉        | 7/36 [00:11<00:50,  1.74s/it]"
     ]
    },
    {
     "name": "stdout",
     "output_type": "stream",
     "text": [
      "['var1_pct(t-1)']\n"
     ]
    },
    {
     "name": "stderr",
     "output_type": "stream",
     "text": [
      "\r",
      " 22%|██▏       | 8/36 [00:13<00:49,  1.77s/it]"
     ]
    },
    {
     "name": "stdout",
     "output_type": "stream",
     "text": [
      "['var1_pct(t-1)']\n"
     ]
    },
    {
     "name": "stderr",
     "output_type": "stream",
     "text": [
      "\r",
      " 25%|██▌       | 9/36 [00:15<00:48,  1.80s/it]"
     ]
    },
    {
     "name": "stdout",
     "output_type": "stream",
     "text": [
      "['var1_pct(t-1)']\n"
     ]
    },
    {
     "name": "stderr",
     "output_type": "stream",
     "text": [
      "\r",
      " 28%|██▊       | 10/36 [00:17<00:47,  1.82s/it]"
     ]
    },
    {
     "name": "stdout",
     "output_type": "stream",
     "text": [
      "['var1_pct(t-1)']\n"
     ]
    },
    {
     "name": "stderr",
     "output_type": "stream",
     "text": [
      "\r",
      " 31%|███       | 11/36 [00:18<00:45,  1.82s/it]"
     ]
    },
    {
     "name": "stdout",
     "output_type": "stream",
     "text": [
      "['var1_pct(t-1)']\n"
     ]
    },
    {
     "name": "stderr",
     "output_type": "stream",
     "text": [
      "\r",
      " 33%|███▎      | 12/36 [00:20<00:43,  1.83s/it]"
     ]
    },
    {
     "name": "stdout",
     "output_type": "stream",
     "text": [
      "['var1_pct(t-1)']\n"
     ]
    },
    {
     "name": "stderr",
     "output_type": "stream",
     "text": [
      "\r",
      " 36%|███▌      | 13/36 [00:22<00:42,  1.84s/it]"
     ]
    },
    {
     "name": "stdout",
     "output_type": "stream",
     "text": [
      "['var1_pct(t-1)']\n"
     ]
    },
    {
     "name": "stderr",
     "output_type": "stream",
     "text": [
      "\r",
      " 39%|███▉      | 14/36 [00:24<00:40,  1.85s/it]"
     ]
    },
    {
     "name": "stdout",
     "output_type": "stream",
     "text": [
      "['var1_pct(t-1)']\n"
     ]
    },
    {
     "name": "stderr",
     "output_type": "stream",
     "text": [
      "\r",
      " 42%|████▏     | 15/36 [00:26<00:38,  1.84s/it]"
     ]
    },
    {
     "name": "stdout",
     "output_type": "stream",
     "text": [
      "['var1_pct(t-1)']\n"
     ]
    },
    {
     "name": "stderr",
     "output_type": "stream",
     "text": [
      "\r",
      " 44%|████▍     | 16/36 [00:28<00:37,  1.86s/it]"
     ]
    },
    {
     "name": "stdout",
     "output_type": "stream",
     "text": [
      "['var1_pct(t-1)']\n"
     ]
    },
    {
     "name": "stderr",
     "output_type": "stream",
     "text": [
      "\r",
      " 47%|████▋     | 17/36 [00:30<00:35,  1.85s/it]"
     ]
    },
    {
     "name": "stdout",
     "output_type": "stream",
     "text": [
      "['var1_pct(t-1)']\n"
     ]
    },
    {
     "name": "stderr",
     "output_type": "stream",
     "text": [
      "\r",
      " 50%|█████     | 18/36 [00:32<00:34,  1.90s/it]"
     ]
    },
    {
     "name": "stdout",
     "output_type": "stream",
     "text": [
      "['var1_pct(t-1)']\n"
     ]
    },
    {
     "name": "stderr",
     "output_type": "stream",
     "text": [
      "\r",
      " 53%|█████▎    | 19/36 [00:34<00:33,  1.95s/it]"
     ]
    },
    {
     "name": "stdout",
     "output_type": "stream",
     "text": [
      "['var1_pct(t-1)']\n"
     ]
    },
    {
     "name": "stderr",
     "output_type": "stream",
     "text": [
      "\r",
      " 56%|█████▌    | 20/36 [00:36<00:31,  1.96s/it]"
     ]
    },
    {
     "name": "stdout",
     "output_type": "stream",
     "text": [
      "['var1_pct(t-1)']\n"
     ]
    },
    {
     "name": "stderr",
     "output_type": "stream",
     "text": [
      "\r",
      " 58%|█████▊    | 21/36 [00:38<00:30,  2.01s/it]"
     ]
    },
    {
     "name": "stdout",
     "output_type": "stream",
     "text": [
      "['var1_pct(t-1)']\n"
     ]
    },
    {
     "name": "stderr",
     "output_type": "stream",
     "text": [
      "\r",
      " 61%|██████    | 22/36 [00:40<00:29,  2.10s/it]"
     ]
    },
    {
     "name": "stdout",
     "output_type": "stream",
     "text": [
      "['var1_pct(t-1)']\n"
     ]
    },
    {
     "name": "stderr",
     "output_type": "stream",
     "text": [
      "\r",
      " 64%|██████▍   | 23/36 [00:42<00:26,  2.08s/it]"
     ]
    },
    {
     "name": "stdout",
     "output_type": "stream",
     "text": [
      "['var1_pct(t-1)']\n"
     ]
    },
    {
     "name": "stderr",
     "output_type": "stream",
     "text": [
      "\r",
      " 67%|██████▋   | 24/36 [00:44<00:25,  2.09s/it]"
     ]
    },
    {
     "name": "stdout",
     "output_type": "stream",
     "text": [
      "['var1_pct(t-1)']\n"
     ]
    },
    {
     "name": "stderr",
     "output_type": "stream",
     "text": [
      "\r",
      " 69%|██████▉   | 25/36 [00:46<00:23,  2.09s/it]"
     ]
    },
    {
     "name": "stdout",
     "output_type": "stream",
     "text": [
      "['var1_pct(t-1)']\n"
     ]
    },
    {
     "name": "stderr",
     "output_type": "stream",
     "text": [
      "\r",
      " 72%|███████▏  | 26/36 [00:48<00:20,  2.03s/it]"
     ]
    },
    {
     "name": "stdout",
     "output_type": "stream",
     "text": [
      "['var1_pct(t-1)']\n"
     ]
    },
    {
     "name": "stderr",
     "output_type": "stream",
     "text": [
      "\r",
      " 75%|███████▌  | 27/36 [00:50<00:17,  1.98s/it]"
     ]
    },
    {
     "name": "stdout",
     "output_type": "stream",
     "text": [
      "['var1_pct(t-1)']\n"
     ]
    },
    {
     "name": "stderr",
     "output_type": "stream",
     "text": [
      "\r",
      " 78%|███████▊  | 28/36 [00:52<00:15,  1.96s/it]"
     ]
    },
    {
     "name": "stdout",
     "output_type": "stream",
     "text": [
      "['var1_pct(t-1)']\n"
     ]
    },
    {
     "name": "stderr",
     "output_type": "stream",
     "text": [
      "\r",
      " 81%|████████  | 29/36 [00:54<00:13,  1.95s/it]"
     ]
    },
    {
     "name": "stdout",
     "output_type": "stream",
     "text": [
      "['var1_pct(t-1)']\n"
     ]
    },
    {
     "name": "stderr",
     "output_type": "stream",
     "text": [
      "\r",
      " 83%|████████▎ | 30/36 [00:56<00:11,  1.92s/it]"
     ]
    },
    {
     "name": "stdout",
     "output_type": "stream",
     "text": [
      "['var1_pct(t-1)']\n"
     ]
    },
    {
     "name": "stderr",
     "output_type": "stream",
     "text": [
      "\r",
      " 86%|████████▌ | 31/36 [00:58<00:09,  1.89s/it]"
     ]
    },
    {
     "name": "stdout",
     "output_type": "stream",
     "text": [
      "['var1_pct(t-1)']\n"
     ]
    },
    {
     "name": "stderr",
     "output_type": "stream",
     "text": [
      "\r",
      " 89%|████████▉ | 32/36 [00:59<00:07,  1.87s/it]"
     ]
    },
    {
     "name": "stdout",
     "output_type": "stream",
     "text": [
      "['var1_pct(t-1)']\n"
     ]
    },
    {
     "name": "stderr",
     "output_type": "stream",
     "text": [
      "\r",
      " 92%|█████████▏| 33/36 [01:01<00:05,  1.86s/it]"
     ]
    },
    {
     "name": "stdout",
     "output_type": "stream",
     "text": [
      "['var1_pct(t-1)']\n"
     ]
    },
    {
     "name": "stderr",
     "output_type": "stream",
     "text": [
      "\r",
      " 94%|█████████▍| 34/36 [01:03<00:03,  1.88s/it]"
     ]
    },
    {
     "name": "stdout",
     "output_type": "stream",
     "text": [
      "['var1_pct(t-1)']\n"
     ]
    },
    {
     "name": "stderr",
     "output_type": "stream",
     "text": [
      "\r",
      " 97%|█████████▋| 35/36 [01:05<00:01,  1.90s/it]"
     ]
    },
    {
     "name": "stdout",
     "output_type": "stream",
     "text": [
      "['var1_pct(t-1)']\n"
     ]
    },
    {
     "name": "stderr",
     "output_type": "stream",
     "text": [
      "\r",
      "100%|██████████| 36/36 [01:07<00:00,  1.90s/it]"
     ]
    },
    {
     "name": "stdout",
     "output_type": "stream",
     "text": [
      "['var1_pct(t-1)']\n"
     ]
    },
    {
     "name": "stderr",
     "output_type": "stream",
     "text": [
      "\n"
     ]
    }
   ],
   "source": [
    "val_res=[]\n",
    "best_param=[]\n",
    "res_dict ={}\n",
    "predict_df = pd.DataFrame()\n",
    "max_look_back = len(train_col)\n",
    "for look_back in tqdm.tqdm(range(max_look_back, pred_size, -1)): #1\n",
    "    look_col = train_col[-look_back:]\n",
    "    train_X = X[add_cols+look_col]#add_cols+\n",
    "    val_X = X_val[add_cols+look_col]\n",
    "#     print(test_X.head(), val_X.head())\n",
    "    test_X = X_test[add_cols+look_col]\n",
    "#     print(look_back, look_col)\n",
    "\n",
    "\n",
    "\n",
    "    train_X, val_X, test_X = add_func_norm_feature(train_X, val_X, test_X, np.max, look_col)\n",
    "    train_X, val_X, test_X = add_func_norm_feature(train_X, val_X, test_X, np.min, look_col)\n",
    "    train_X, val_X, test_X = add_func_norm_feature(train_X, val_X, test_X, np.std, look_col)\n",
    "    train_X, val_X, test_X = add_func_norm_feature(train_X, val_X, test_X, np.mean, look_col)\n",
    "    \n",
    "    \n",
    "    train_X, val_X, test_X = add_pct_change(train_X, val_X, test_X,look_col, 1)\n",
    "    \n",
    "    \n",
    "#     print(train_X.head())\n",
    "#     temp = train_X.groupby(['is_cheap'])[look_col[-pred_size:]].mean().reset_index()\n",
    "#     print(train_X.shape)\n",
    "    \n",
    "#     train_X, val_X, test_X = add_applied_feature(train_X, val_X, test_X, skew, look_col)\n",
    "#     train_X, val_X, test_X = add_applied_feature(train_X, val_X, test_X, kurtosis, look_col)\n",
    "#     train_X, val_X, test_X = add_applied_feature(train_X, val_X, test_X, hmean, look_col)\n",
    "#     train_X, val_X, test_X = add_applied_feature(train_X, val_X, test_X, gmean, look_col)\n",
    "\n",
    "\n",
    "    val_res.append([])\n",
    "    for day in range(len(test_col)):\n",
    "        train_y = y[test_col[day]]\n",
    "        val_y = y_val[test_col[day]]\n",
    "        model = LinearRegression(n_jobs=-1, normalize=True)\n",
    "        model.fit(train_X,train_y)\n",
    "        val_yhat = model.predict(val_X)\n",
    "        val_res[-1].append(evaluate(val_y, val_yhat))\n",
    "\n",
    "        model.fit(val_X,val_y)\n",
    "        test_yhat_day = model.predict(test_X)\n",
    "        predict_df['lookback_{}_day_{}'.format(look_back, day)] = test_yhat_day"
   ]
  },
  {
   "cell_type": "code",
   "execution_count": 582,
   "metadata": {},
   "outputs": [
    {
     "name": "stdout",
     "output_type": "stream",
     "text": [
      "14134.5313693\n"
     ]
    }
   ],
   "source": [
    "best_lookbacks = [i for i in np.argmin(np.array(val_res), axis=0)]\n",
    "best_val_score = np.mean([np.array(val_res)[j,i] for i, j in enumerate(best_lookbacks)])\n",
    "print(best_val_score)\n",
    "#15018"
   ]
  },
  {
   "cell_type": "code",
   "execution_count": 527,
   "metadata": {},
   "outputs": [
    {
     "data": {
      "text/plain": [
       "[34, 1, 11, 6, 10, 9, 9]"
      ]
     },
     "execution_count": 527,
     "metadata": {},
     "output_type": "execute_result"
    }
   ],
   "source": [
    "best_lookbacks\n",
    "#0 - 42 lookback"
   ]
  },
  {
   "cell_type": "code",
   "execution_count": 468,
   "metadata": {},
   "outputs": [
    {
     "data": {
      "text/plain": [
       "(1253, 253)"
      ]
     },
     "execution_count": 468,
     "metadata": {},
     "output_type": "execute_result"
    }
   ],
   "source": [
    "predict_df.shape"
   ]
  },
  {
   "cell_type": "code",
   "execution_count": 583,
   "metadata": {},
   "outputs": [],
   "source": [
    "predict_df['player_id'] = sorted(data_provider.sample_subm.player_id.unique())\n",
    "best_pred_columns =['lookback_{}_day_{}'.format(max_look_back - look_b, i) for i, look_b in enumerate(best_lookbacks) ]\n",
    "final_df = pd.melt(predict_df, id_vars=\"player_id\", value_vars=best_pred_columns)"
   ]
  },
  {
   "cell_type": "code",
   "execution_count": 457,
   "metadata": {},
   "outputs": [
    {
     "data": {
      "text/plain": [
       "(8771, 4)"
      ]
     },
     "execution_count": 457,
     "metadata": {},
     "output_type": "execute_result"
    }
   ],
   "source": [
    "data_provider.sample_subm.shape"
   ]
  },
  {
   "cell_type": "code",
   "execution_count": 584,
   "metadata": {},
   "outputs": [
    {
     "data": {
      "text/html": [
       "<div>\n",
       "<style>\n",
       "    .dataframe thead tr:only-child th {\n",
       "        text-align: right;\n",
       "    }\n",
       "\n",
       "    .dataframe thead th {\n",
       "        text-align: left;\n",
       "    }\n",
       "\n",
       "    .dataframe tbody tr th {\n",
       "        vertical-align: top;\n",
       "    }\n",
       "</style>\n",
       "<table border=\"1\" class=\"dataframe\">\n",
       "  <thead>\n",
       "    <tr style=\"text-align: right;\">\n",
       "      <th></th>\n",
       "      <th>id</th>\n",
       "      <th>price</th>\n",
       "      <th>player_id</th>\n",
       "      <th>Date</th>\n",
       "    </tr>\n",
       "  </thead>\n",
       "  <tbody>\n",
       "    <tr>\n",
       "      <th>0</th>\n",
       "      <td>1_2017-06-23</td>\n",
       "      <td>3.152877e+06</td>\n",
       "      <td>1</td>\n",
       "      <td>2017-06-23</td>\n",
       "    </tr>\n",
       "    <tr>\n",
       "      <th>1</th>\n",
       "      <td>1_2017-06-24</td>\n",
       "      <td>3.074659e+06</td>\n",
       "      <td>1</td>\n",
       "      <td>2017-06-24</td>\n",
       "    </tr>\n",
       "    <tr>\n",
       "      <th>2</th>\n",
       "      <td>1_2017-06-25</td>\n",
       "      <td>2.879574e+06</td>\n",
       "      <td>1</td>\n",
       "      <td>2017-06-25</td>\n",
       "    </tr>\n",
       "    <tr>\n",
       "      <th>3</th>\n",
       "      <td>1_2017-06-26</td>\n",
       "      <td>2.870236e+06</td>\n",
       "      <td>1</td>\n",
       "      <td>2017-06-26</td>\n",
       "    </tr>\n",
       "    <tr>\n",
       "      <th>4</th>\n",
       "      <td>1_2017-06-27</td>\n",
       "      <td>2.885394e+06</td>\n",
       "      <td>1</td>\n",
       "      <td>2017-06-27</td>\n",
       "    </tr>\n",
       "  </tbody>\n",
       "</table>\n",
       "</div>"
      ],
      "text/plain": [
       "             id         price  player_id       Date\n",
       "0  1_2017-06-23  3.152877e+06          1 2017-06-23\n",
       "1  1_2017-06-24  3.074659e+06          1 2017-06-24\n",
       "2  1_2017-06-25  2.879574e+06          1 2017-06-25\n",
       "3  1_2017-06-26  2.870236e+06          1 2017-06-26\n",
       "4  1_2017-06-27  2.885394e+06          1 2017-06-27"
      ]
     },
     "execution_count": 584,
     "metadata": {},
     "output_type": "execute_result"
    }
   ],
   "source": [
    "d = sorted(data_provider.sample_subm.Date.unique().astype(str))\n",
    "dates = {}\n",
    "sample_subm = data_provider.sample_subm\n",
    "for col, d in zip(best_pred_columns, d):\n",
    "    dates[col] = d\n",
    "final_df[\"variable\"] = final_df[\"variable\"].map(dates)\n",
    "final_df.sort_values([\"player_id\", \"variable\"], inplace=True)\n",
    "final_df.reset_index(drop=True, inplace=True)\n",
    "sample_subm[\"price\"] = final_df[\"value\"]\n",
    "sample_subm[\"price\"] = np.exp(sample_subm[\"price\"])\n",
    "sample_subm.head()"
   ]
  },
  {
   "cell_type": "code",
   "execution_count": 585,
   "metadata": {
    "collapsed": true
   },
   "outputs": [],
   "source": [
    "sample_subm[[\"id\", \"price\"]].to_csv('{}_linear_subm.csv'.format(int(best_val_score), index=False)"
   ]
  }
 ],
 "metadata": {
  "kernelspec": {
   "display_name": "Python 3",
   "language": "python",
   "name": "python3"
  },
  "language_info": {
   "codemirror_mode": {
    "name": "ipython",
    "version": 3.0
   },
   "file_extension": ".py",
   "mimetype": "text/x-python",
   "name": "python",
   "nbconvert_exporter": "python",
   "pygments_lexer": "ipython3",
   "version": "3.5.2"
  }
 },
 "nbformat": 4,
 "nbformat_minor": 0
}