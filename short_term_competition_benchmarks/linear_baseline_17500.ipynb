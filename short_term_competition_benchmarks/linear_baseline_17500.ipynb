{
 "cells": [
  {
   "cell_type": "code",
   "execution_count": 1,
   "metadata": {
    "collapsed": true
   },
   "outputs": [],
   "source": [
    "import pandas as pd\n",
    "pd.options.display.max_columns = 999\n",
    "import numpy as np\n",
    "from numba import vectorize\n",
    "\n",
    "from datetime import timedelta\n",
    "from sklearn.metrics import mean_squared_error\n",
    "from sklearn.linear_model import LinearRegression\n",
    "\n",
    "import warnings\n",
    "warnings.filterwarnings('ignore')"
   ]
  },
  {
   "cell_type": "code",
   "execution_count": 2,
   "metadata": {
    "collapsed": true
   },
   "outputs": [],
   "source": [
    "def only_predict(model, data, test_indexes, week):\n",
    "    preds = model.predict(data.iloc[test_indexes, train_columns].values)\n",
    "    df_new[\"week_{}_day_{}_lags_{}\".format(week, target_column.split(\"_\")[1], \n",
    "                                           len(train_columns))] = preds\n",
    "\n",
    "def eval_score(model, data, test_indexes, week):\n",
    "    preds = model.predict(data.iloc[test_indexes, train_columns].values)\n",
    "    df_new[\"week_{}_day_{}_lags_{}\".format(week, target_column.split(\"_\")[1], \n",
    "                                           len(train_columns))] = preds\n",
    "    return np.sqrt(mean_squared_error(data.loc[test_indexes, target_column].values, \n",
    "                                      preds))\n",
    "\n",
    "def ts_cv(data, folds):\n",
    "    scores = []\n",
    "    predictions = []\n",
    "    for model, fold in enumerate(folds):\n",
    "        lr = LinearRegression(n_jobs=-1)\n",
    "        lr.fit(data.iloc[fold[0], train_columns], data.loc[fold[0], target_column])\n",
    "        if model == 0:\n",
    "            only_predict(lr, data, fold[1], model - 1)\n",
    "        else:\n",
    "            scores.append(eval_score(lr, data, fold[1], model - 1))\n",
    "        \n",
    "    return scores\n",
    "        "
   ]
  },
  {
   "cell_type": "code",
   "execution_count": 3,
   "metadata": {
    "collapsed": true
   },
   "outputs": [],
   "source": [
    "df = pd.read_csv(\"data/player_price.csv\")\n",
    "sample_subm = pd.read_csv(\"short_term_competition_benchmarks/kaggle_sample_submission.csv\")"
   ]
  },
  {
   "cell_type": "code",
   "execution_count": 4,
   "metadata": {
    "collapsed": true
   },
   "outputs": [],
   "source": [
    "sample_subm[\"player_id\"] = sample_subm[\"id\"].apply(lambda x: int(x.split(\"_\")[0]))\n",
    "sample_subm[\"Date\"] = sample_subm[\"id\"].apply(lambda x: np.datetime64(x.split(\"_\")[1]))"
   ]
  },
  {
   "cell_type": "code",
   "execution_count": 5,
   "metadata": {
    "collapsed": true
   },
   "outputs": [],
   "source": [
    "df = df[df[\"player_id\"].isin(sample_subm[\"player_id\"].unique())]\n",
    "df['Date'] = pd.to_datetime(df['timestamp'], unit='ms')\n",
    "df.drop([\"timestamp\", \"ps_price\", \"player_name\"], axis=1, inplace=True)"
   ]
  },
  {
   "cell_type": "code",
   "execution_count": 6,
   "metadata": {
    "collapsed": true
   },
   "outputs": [],
   "source": [
    "dates_dict = {}\n",
    "for i, date in enumerate(df[\"Date\"].sort_values(ascending=False).unique()):\n",
    "    dates_dict[date] = i\n",
    "df[\"weekDate\"] = df[\"Date\"].map(dates_dict) // 7\n",
    "df[\"wdayDate\"] = df[\"Date\"].map(dates_dict) % 7\n",
    "df[\"wdayDate\"] = df[\"wdayDate\"].apply(lambda x: \"day_\" + str(x))\n",
    "df[\"Date\"] = df[\"Date\"].astype(str)"
   ]
  },
  {
   "cell_type": "code",
   "execution_count": 7,
   "metadata": {
    "collapsed": true
   },
   "outputs": [],
   "source": [
    "df = pd.pivot_table(df, values=\"xbox_price\", columns=\"wdayDate\", index=[\"player_id\", \"weekDate\"]).reset_index()\n",
    "df.columns = ['player_id', 'weekDate', 'day_0', 'day_1', 'day_2', \n",
    "              'day_3', 'day_4', 'day_5', 'day_6']"
   ]
  },
  {
   "cell_type": "code",
   "execution_count": 8,
   "metadata": {
    "collapsed": true
   },
   "outputs": [],
   "source": [
    "temp = df[df[\"weekDate\"] == 0]\n",
    "temp[[\"weekDate\", 'day_0', 'day_1', 'day_2', \n",
    "              'day_3', 'day_4', 'day_5', 'day_6']] = -1\n",
    "df = pd.concat([df, temp])"
   ]
  },
  {
   "cell_type": "code",
   "execution_count": 9,
   "metadata": {
    "collapsed": true
   },
   "outputs": [],
   "source": [
    "def create_lag_features(lag_week, feature='day_'):\n",
    "    temp = df.copy()\n",
    "    temp['weekDate'] = df['weekDate'].values - lag_week\n",
    "    cols = []\n",
    "    for i in range(7):\n",
    "        cols.append(\"lag_{}_{}\".format(lag_week, feature + str(i)))\n",
    "        temp.rename(columns={\"{}\".format(feature + str(i)): cols[-1]}, inplace=True)\n",
    "    return df.merge(temp[[\"weekDate\", \"player_id\"] + cols], \n",
    "                                   how='left', on=[\"weekDate\", \"player_id\"])"
   ]
  },
  {
   "cell_type": "code",
   "execution_count": 10,
   "metadata": {
    "collapsed": true
   },
   "outputs": [],
   "source": [
    "for lag in range(1, 5):\n",
    "    df = create_lag_features(lag)"
   ]
  },
  {
   "cell_type": "code",
   "execution_count": 11,
   "metadata": {
    "collapsed": true
   },
   "outputs": [],
   "source": [
    "validation_weeks = [-1, 0]"
   ]
  },
  {
   "cell_type": "code",
   "execution_count": 12,
   "metadata": {
    "collapsed": true
   },
   "outputs": [],
   "source": [
    "def create_validation(week):\n",
    "    return df[(df[\"weekDate\"] > week) & (df[\"weekDate\"] < week + 2)].index, df[df[\"weekDate\"] == week].index"
   ]
  },
  {
   "cell_type": "code",
   "execution_count": 13,
   "metadata": {
    "collapsed": true
   },
   "outputs": [],
   "source": [
    "validation = []\n",
    "for week in validation_weeks:\n",
    "    validation.append(create_validation(week))"
   ]
  },
  {
   "cell_type": "code",
   "execution_count": 14,
   "metadata": {
    "collapsed": true
   },
   "outputs": [],
   "source": [
    "scores_cv = []\n",
    "lags_values = range(1,7)\n",
    "df_new = pd.DataFrame([])\n",
    "for day in range(7):\n",
    "    scores_cv.append([])\n",
    "    for n_lag in lags_values:\n",
    "        train_columns = list(range(9,9+n_lag))\n",
    "        target_column = \"day_{}\".format(day)\n",
    "        scores_cv[-1].append(ts_cv(df.fillna(0), validation))"
   ]
  },
  {
   "cell_type": "code",
   "execution_count": 15,
   "metadata": {
    "collapsed": true
   },
   "outputs": [],
   "source": [
    "best_days = [lags_values[i] for i in np.argmin(np.mean(np.array(scores_cv), axis=2), axis=1)]"
   ]
  },
  {
   "cell_type": "code",
   "execution_count": 16,
   "metadata": {},
   "outputs": [
    {
     "data": {
      "text/plain": [
       "[1, 1, 1, 1, 1, 1, 2]"
      ]
     },
     "execution_count": 16,
     "metadata": {},
     "output_type": "execute_result"
    }
   ],
   "source": [
    "best_days"
   ]
  },
  {
   "cell_type": "code",
   "execution_count": 17,
   "metadata": {},
   "outputs": [
    {
     "data": {
      "text/plain": [
       "19697.347688241563"
      ]
     },
     "execution_count": 17,
     "metadata": {},
     "output_type": "execute_result"
    }
   ],
   "source": [
    "np.mean([np.mean(np.array(scores_cv), axis=2)[i,j-1] for i, j in enumerate(best_days)])"
   ]
  },
  {
   "cell_type": "code",
   "execution_count": 18,
   "metadata": {
    "collapsed": true
   },
   "outputs": [],
   "source": [
    "df_new[\"player_id\"] = df.loc[validation[0][1], \"player_id\"].values.copy()"
   ]
  },
  {
   "cell_type": "code",
   "execution_count": 19,
   "metadata": {
    "collapsed": true
   },
   "outputs": [],
   "source": [
    "pred_cols = [\"week_-1_day_{}_lags_{}\".format(day, lag) for day, lag in enumerate(best_days) ]\n",
    "final_df = pd.melt(df_new, id_vars=\"player_id\", value_vars=pred_cols)"
   ]
  },
  {
   "cell_type": "code",
   "execution_count": 20,
   "metadata": {
    "collapsed": true
   },
   "outputs": [],
   "source": [
    "d = [\"2017-06-29\", \"2017-06-28\", \"2017-06-27\", \"2017-06-26\", \n",
    "     \"2017-06-25\", \"2017-06-24\", \"2017-06-23\"]\n",
    "dates = {}\n",
    "for col, d in zip(pred_cols, d):\n",
    "    dates[col] = d"
   ]
  },
  {
   "cell_type": "code",
   "execution_count": 21,
   "metadata": {
    "collapsed": true
   },
   "outputs": [],
   "source": [
    "final_df[\"variable\"] = final_df[\"variable\"].map(dates)\n",
    "final_df.sort_values([\"player_id\", \"variable\"], inplace=True)\n",
    "final_df.reset_index(drop=True, inplace=True)"
   ]
  },
  {
   "cell_type": "code",
   "execution_count": 22,
   "metadata": {
    "collapsed": true
   },
   "outputs": [],
   "source": [
    "sample_subm[\"price\"] = final_df[\"value\"]"
   ]
  },
  {
   "cell_type": "code",
   "execution_count": 23,
   "metadata": {
    "collapsed": true
   },
   "outputs": [],
   "source": [
    "sample_subm[[\"id\", \"price\"]].to_csv(\"linear_baseline_17500.csv\", index=False)"
   ]
  }
 ],
 "metadata": {
  "kernelspec": {
   "display_name": "Python 3",
   "language": "python",
   "name": "python3"
  },
  "language_info": {
   "codemirror_mode": {
    "name": "ipython",
    "version": 3
   },
   "file_extension": ".py",
   "mimetype": "text/x-python",
   "name": "python",
   "nbconvert_exporter": "python",
   "pygments_lexer": "ipython3",
   "version": "3.6.1"
  }
 },
 "nbformat": 4,
 "nbformat_minor": 2
}
